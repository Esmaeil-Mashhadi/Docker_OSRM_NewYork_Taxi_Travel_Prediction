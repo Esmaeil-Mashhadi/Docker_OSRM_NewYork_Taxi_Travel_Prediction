{
 "cells": [
  {
   "cell_type": "code",
   "execution_count": 1,
   "metadata": {},
   "outputs": [],
   "source": [
    "import httpx  "
   ]
  },
  {
   "cell_type": "code",
   "execution_count": 2,
   "metadata": {},
   "outputs": [],
   "source": [
    "osrm_host = 'http://127.0.0.1'\n",
    "osrm_port = 5000"
   ]
  },
  {
   "cell_type": "code",
   "execution_count": null,
   "metadata": {},
   "outputs": [],
   "source": [
    "\"http://127.0.0.1:5000/route/v1/driving/13.388860,52.517037;13.385983,52.496891?steps=true\"\n"
   ]
  },
  {
   "cell_type": "code",
   "execution_count": 30,
   "metadata": {},
   "outputs": [],
   "source": [
    "def get_data(lon_src , lat_src,  lon_dst , lat_dst): \n",
    "    request_url = f\"{osrm_host}:{osrm_port}/route/v1/driving/{lon_src},{lat_src};{lon_dst},{lat_dst}\"\n",
    "    respons = httpx.get(request_url).json()\n",
    "    print(respons['routes'])\n",
    "    best_route= respons['routes'][0]\n",
    "    duration = best_route['duration']\n",
    "    distance = best_route['distance']\n",
    "    return duration ,distance "
   ]
  },
  {
   "cell_type": "code",
   "execution_count": 35,
   "metadata": {},
   "outputs": [
    {
     "name": "stdout",
     "output_type": "stream",
     "text": [
      "[{'geometry': 'cutyFxsquLSnGyB]qB~@cApBY~Er@hFlFhInBfINvHe@fO\\\\xIrIx@dC_@bC_BzGw@`FtB~ElFxISjCt@nBBlIdD`@`ARzCd@j@vCh@fCSv@V^fC`E`I`PoP', 'legs': [{'steps': [], 'distance': 3646, 'duration': 651.7, 'summary': '', 'weight': 4024.6}], 'distance': 3646, 'duration': 651.7, 'weight_name': 'routability', 'weight': 4024.6}]\n"
     ]
    }
   ],
   "source": [
    "duration , distance = get_data(40.71792543422583, 40.77636800029203, 40.7851, -73.9473626995488)"
   ]
  },
  {
   "cell_type": "code",
   "execution_count": 36,
   "metadata": {},
   "outputs": [
    {
     "data": {
      "text/plain": [
       "651.7"
      ]
     },
     "execution_count": 36,
     "metadata": {},
     "output_type": "execute_result"
    }
   ],
   "source": [
    "duration"
   ]
  },
  {
   "cell_type": "code",
   "execution_count": 37,
   "metadata": {},
   "outputs": [
    {
     "data": {
      "text/plain": [
       "3646"
      ]
     },
     "execution_count": 37,
     "metadata": {},
     "output_type": "execute_result"
    }
   ],
   "source": [
    "distance"
   ]
  },
  {
   "cell_type": "code",
   "execution_count": null,
   "metadata": {},
   "outputs": [],
   "source": []
  }
 ],
 "metadata": {
  "kernelspec": {
   "display_name": ".venv",
   "language": "python",
   "name": "python3"
  },
  "language_info": {
   "codemirror_mode": {
    "name": "ipython",
    "version": 3
   },
   "file_extension": ".py",
   "mimetype": "text/x-python",
   "name": "python",
   "nbconvert_exporter": "python",
   "pygments_lexer": "ipython3",
   "version": "3.12.3"
  }
 },
 "nbformat": 4,
 "nbformat_minor": 2
}
